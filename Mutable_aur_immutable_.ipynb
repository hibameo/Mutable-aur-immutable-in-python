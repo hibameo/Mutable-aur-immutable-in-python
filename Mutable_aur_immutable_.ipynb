{
  "nbformat": 4,
  "nbformat_minor": 0,
  "metadata": {
    "colab": {
      "provenance": [],
      "authorship_tag": "ABX9TyNq/s+/66oeVrnXzmWoTHtC",
      "include_colab_link": true
    },
    "kernelspec": {
      "name": "python3",
      "display_name": "Python 3"
    },
    "language_info": {
      "name": "python"
    }
  },
  "cells": [
    {
      "cell_type": "markdown",
      "metadata": {
        "id": "view-in-github",
        "colab_type": "text"
      },
      "source": [
        "<a href=\"https://colab.research.google.com/github/hibameo/Mutable-aur-immutable-in-python/blob/main/Mutable_aur_immutable_.ipynb\" target=\"_parent\"><img src=\"https://colab.research.google.com/assets/colab-badge.svg\" alt=\"Open In Colab\"/></a>"
      ]
    },
    {
      "cell_type": "markdown",
      "source": [
        "Mutable aur immutable"
      ],
      "metadata": {
        "id": "uIRwPwsWN-hZ"
      }
    },
    {
      "cell_type": "markdown",
      "source": [
        "Mutable Data Types (Jinmein changes kiye ja sakte hain):"
      ],
      "metadata": {
        "id": "pK6SAbjNOCya"
      }
    },
    {
      "cell_type": "markdown",
      "source": [
        ". List (list)\n",
        "\n",
        ". Dictionary (dict)\n",
        "\n",
        ". Set (set)\n",
        "\n",
        ". Bytearray (bytearray)"
      ],
      "metadata": {
        "id": "OlbyXetDOFdX"
      }
    },
    {
      "cell_type": "markdown",
      "source": [
        "Agar aap in data types mein koi change karein (add, remove, update), toh woh same memory location par modify ho jata hai."
      ],
      "metadata": {
        "id": "WWXu4FfFOM0r"
      }
    },
    {
      "cell_type": "markdown",
      "source": [
        "Example:"
      ],
      "metadata": {
        "id": "cXq-9psPOQLq"
      }
    },
    {
      "cell_type": "code",
      "source": [
        "my_list = [1, 2, 3]\n",
        "my_list.append(4)\n",
        "print(my_list)  # Output: [1, 2, 3, 4]\n"
      ],
      "metadata": {
        "colab": {
          "base_uri": "https://localhost:8080/"
        },
        "id": "vKxGhttPOSLQ",
        "outputId": "361ec452-f0b0-4bcf-b471-5c6bfbc0a8a4"
      },
      "execution_count": 1,
      "outputs": [
        {
          "output_type": "stream",
          "name": "stdout",
          "text": [
            "[1, 2, 3, 4]\n"
          ]
        }
      ]
    },
    {
      "cell_type": "markdown",
      "source": [
        "Immutable Data Types (Jinmein changes nahi kiye ja sakte):"
      ],
      "metadata": {
        "id": "v1h81ZO3OX3B"
      }
    },
    {
      "cell_type": "markdown",
      "source": [
        ". Integer (int)\n",
        "\n",
        ". Float (float)\n",
        "\n",
        ". String (str)\n",
        "\n",
        ". Tuple (tuple)\n",
        "\n",
        ". Frozen Set (frozenset)\n",
        "\n",
        ". Bytes (bytes)"
      ],
      "metadata": {
        "id": "zeLkgYIFOa8l"
      }
    },
    {
      "cell_type": "markdown",
      "source": [
        "Agar aap in data types ko modify karne ki koshish karein, toh Python naya object bana deta hai, purana modify nahi hota."
      ],
      "metadata": {
        "id": "2SxqkbuCOj-L"
      }
    },
    {
      "cell_type": "markdown",
      "source": [
        "Example:"
      ],
      "metadata": {
        "id": "xSn8CxeLOo4t"
      }
    },
    {
      "cell_type": "code",
      "source": [
        "my_str = \"Hello\"\n",
        "my_str = my_str + \" World\"  # Naya object create hoga\n",
        "print(my_str)  # Output: \"Hello World\"\n"
      ],
      "metadata": {
        "colab": {
          "base_uri": "https://localhost:8080/"
        },
        "id": "sh_l1eC3Oq8N",
        "outputId": "c8474882-cb5a-49fe-d4d6-ee9a4c7aded1"
      },
      "execution_count": 2,
      "outputs": [
        {
          "output_type": "stream",
          "name": "stdout",
          "text": [
            "Hello World\n"
          ]
        }
      ]
    }
  ]
}